{
 "cells": [
  {
   "cell_type": "markdown",
   "metadata": {},
   "source": [
    "# Coursera Capstone"
   ]
  },
  {
   "cell_type": "markdown",
   "metadata": {},
   "source": [
    "First we will import the libraries needed for importing and manipulating the data"
   ]
  },
  {
   "cell_type": "code",
   "execution_count": 2,
   "metadata": {},
   "outputs": [
    {
     "name": "stdout",
     "output_type": "stream",
     "text": [
      "All imported!\n"
     ]
    }
   ],
   "source": [
    "import pandas as pd\n",
    "import numpy as  np\n",
    "import urllib.request\n",
    "from bs4 import BeautifulSoup\n",
    "print ('All imported!')"
   ]
  },
  {
   "cell_type": "markdown",
   "metadata": {},
   "source": [
    "Now, we will import the HTML page via the URL and Parse it's conent to get the required dataset"
   ]
  },
  {
   "cell_type": "code",
   "execution_count": 3,
   "metadata": {},
   "outputs": [],
   "source": [
    "#get HTML from URL\n",
    "fp = urllib.request.urlopen(\"https://en.wikipedia.org/wiki/List_of_postal_codes_of_Canada:_M\")\n",
    "mybytes = fp.read()\n",
    "\n",
    "ht_str = mybytes.decode(\"utf8\")\n",
    "fp.close()\n",
    "\n",
    "#Parse the HTML and filter to the required table level\n",
    "wik_pg = BeautifulSoup(ht_str,'html.parser')\n",
    "wik_pg= wik_pg.find_all('table')[0].contents[1]"
   ]
  },
  {
   "cell_type": "markdown",
   "metadata": {},
   "source": [
    "Defint the data into a datafram excep for the 'Not Assigned' Borough "
   ]
  },
  {
   "cell_type": "code",
   "execution_count": 4,
   "metadata": {},
   "outputs": [],
   "source": [
    "#get the data and columns into a dataframe\n",
    "rows=list()\n",
    "postal=list()\n",
    "for row in wik_pg.find_all('tr'):\n",
    "    for cell in row.contents:\n",
    "        if cell.string.strip():\n",
    "            postal.append(cell.string.strip())\n",
    "    if row.contents[3].string.strip() != 'Not assigned':\n",
    "        rows.append(postal)\n",
    "    postal=list()\n",
    "\n",
    "df = pd.DataFrame(rows[1:],columns=rows[0])"
   ]
  },
  {
   "cell_type": "markdown",
   "metadata": {},
   "source": [
    "check if not assigned Neighborhoods to be populated with the borough value"
   ]
  },
  {
   "cell_type": "code",
   "execution_count": 5,
   "metadata": {},
   "outputs": [],
   "source": [
    "NAs= df['Neighborhood'].str.contains('Not assigned')\n",
    "df[NAs]['Neighborhood'] = df[NAs]['Borough']"
   ]
  },
  {
   "cell_type": "markdown",
   "metadata": {},
   "source": [
    "combine the neighborhoods with the same code  if exists"
   ]
  },
  {
   "cell_type": "code",
   "execution_count": 7,
   "metadata": {},
   "outputs": [],
   "source": [
    "df2= df.groupby(['Postal Code', 'Borough'])['Neighborhood'].apply(lambda group_series: group_series.tolist()).reset_index()"
   ]
  },
  {
   "cell_type": "markdown",
   "metadata": {},
   "source": [
    "View the dataframe shape:"
   ]
  },
  {
   "cell_type": "code",
   "execution_count": 20,
   "metadata": {},
   "outputs": [
    {
     "data": {
      "text/plain": [
       "(103, 3)"
      ]
     },
     "execution_count": 20,
     "metadata": {},
     "output_type": "execute_result"
    }
   ],
   "source": [
    "df.shape"
   ]
  },
  {
   "cell_type": "code",
   "execution_count": null,
   "metadata": {},
   "outputs": [],
   "source": []
  }
 ],
 "metadata": {
  "kernelspec": {
   "display_name": "Python 3",
   "language": "python",
   "name": "python3"
  },
  "language_info": {
   "codemirror_mode": {
    "name": "ipython",
    "version": 3
   },
   "file_extension": ".py",
   "mimetype": "text/x-python",
   "name": "python",
   "nbconvert_exporter": "python",
   "pygments_lexer": "ipython3",
   "version": "3.7.1"
  }
 },
 "nbformat": 4,
 "nbformat_minor": 2
}
